{
 "cells": [
  {
   "cell_type": "code",
   "execution_count": 1,
   "metadata": {},
   "outputs": [],
   "source": [
    "from pathlib import Path\n",
    "import pandas as pd\n",
    "import glob\n",
    "\n",
    "from typing import List, Dict"
   ]
  },
  {
   "cell_type": "code",
   "execution_count": 2,
   "metadata": {},
   "outputs": [],
   "source": [
    "# Relative paths\n",
    "current_dir = Path.cwd()\n",
    "data_dir = current_dir / \"data\"\n",
    "export_dir = current_dir / \"export\""
   ]
  },
  {
   "cell_type": "code",
   "execution_count": 24,
   "metadata": {},
   "outputs": [],
   "source": [
    "class ExtractFile:\n",
    "    \"\"\" Extract csv files then read as a dataframe. \"\"\"\n",
    "    def __init__(self, file_path:Path):\n",
    "        if not isinstance(file_path, Path):\n",
    "            file_path = Path(file_path)\n",
    "        \n",
    "        self.file_path = file_path\n",
    "        self.files = self.file_path.glob(\"*.csv\")\n",
    "        \n",
    "    def result(self) -> pd.DataFrame:\n",
    "        dfs = []\n",
    "        for file in self.files:\n",
    "            df = pd.read_csv(file)\n",
    "            dfs.append(df)\n",
    "        result_df = pd.concat(dfs, ignore_index=True)\n",
    "        \n",
    "        return result_df\n",
    "    \n",
    "    \n",
    "class TransformDF:\n",
    "    \"\"\" Transform the Dataframe. \"\"\"\n",
    "    def __init__(self, input_df:pd.DataFrame):\n",
    "        self.df = input_df.copy()\n",
    "        \n",
    "    def _convert_str_num(self, input_str:str) -> str:\n",
    "        \"\"\" Convert string to number \"\"\"\n",
    "        result_str = input_str.replace(\"sold\", \"\")\n",
    "        if result_str.__contains__(\"K\"):\n",
    "            result_str = float(result_str.replace(\"K\", \"\")) * 1000\n",
    "        elif result_str.__contains__(\"M\"):\n",
    "            result_str = float(result_str.replace(\"M\", \"\")) * 1000000\n",
    "        return int(result_str)\n",
    "    \n",
    "    def _convert_dtype(self) -> None:\n",
    "        self.df[\"quantity_sold\"] = self.df[\"quantity_sold\"].apply(self._convert_str_num).astype(int)\n",
    "        \n",
    "    def result(self):\n",
    "        self._convert_dtype()\n",
    "        self.df.sort_values(by=\"quantity_sold\", inplace=True, ascending=False)\n",
    "        self.df.reset_index(drop=True, inplace=True)\n",
    "        return self.df\n",
    "    \n",
    "    \n",
    "class ExtractExportDF:\n",
    "    def __init__(self, input_df:pd.DataFrame) -> None:\n",
    "        self.df = input_df.copy()\n",
    "        \n",
    "        self._head_num = 10\n",
    "        self._export_dir = Path.cwd() / \"export\"\n",
    "    \n",
    "    def get_by_qs(self, export:bool=False):\n",
    "        \"\"\" Get the data by quantity sold \"\"\"\n",
    "        self.df.sort_values(by=\"quantity_sold\", inplace=True, ascending=False)\n",
    "        self.df.reset_index(drop=True, inplace=True)\n",
    "        \n",
    "        # Export or not\n",
    "        if export:\n",
    "            self.df.head(10).to_csv(self._export_dir / f\"Data-by-QS.csv\")\n",
    "        return self.df\n",
    "    \n",
    "    def get_by_qs_cat(self, export:bool=False):\n",
    "        prod_categories = self.df[\"product_category\"].unique().tolist()\n",
    "        \n",
    "        result_df = []\n",
    "        for current_cat in prod_categories:\n",
    "            current_df = self.df[self.df[\"product_category\"]==current_cat].head(10)\n",
    "            result_df.append(current_df)\n",
    "            \n",
    "            if export:\n",
    "                current_df.to_csv(f\"{self._export_dir / current_cat}.csv\", index=False)\n",
    "        \n",
    "        return result_df"
   ]
  },
  {
   "cell_type": "code",
   "execution_count": 26,
   "metadata": {},
   "outputs": [],
   "source": [
    "df = ExtractFile(data_dir).result()\n",
    "df = TransformDF(df).result()\n",
    "\n",
    "data_df = ExtractExportDF(df)\n",
    "data_df.get_by_qs(export=True)\n",
    "data_df.get_by_qs_cat(export=True)"
   ]
  },
  {
   "cell_type": "code",
   "execution_count": null,
   "metadata": {},
   "outputs": [],
   "source": []
  }
 ],
 "metadata": {
  "kernelspec": {
   "display_name": "venv",
   "language": "python",
   "name": "python3"
  },
  "language_info": {
   "codemirror_mode": {
    "name": "ipython",
    "version": 3
   },
   "file_extension": ".py",
   "mimetype": "text/x-python",
   "name": "python",
   "nbconvert_exporter": "python",
   "pygments_lexer": "ipython3",
   "version": "3.10.10"
  },
  "orig_nbformat": 4,
  "vscode": {
   "interpreter": {
    "hash": "64ef11595e55d1c8606c3feaf13020df4f9a697ebadebed49ad8b052ca229b0b"
   }
  }
 },
 "nbformat": 4,
 "nbformat_minor": 2
}
